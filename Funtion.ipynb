{
  "nbformat": 4,
  "nbformat_minor": 0,
  "metadata": {
    "colab": {
      "name": "Funtion.ipynb",
      "provenance": []
    },
    "kernelspec": {
      "name": "python3",
      "display_name": "Python 3"
    }
  },
  "cells": [
    {
      "cell_type": "code",
      "metadata": {
        "id": "54kcLPmqiFR8",
        "colab_type": "code",
        "colab": {
          "base_uri": "https://localhost:8080/",
          "height": 34
        },
        "outputId": "1e10f58e-1ccd-45f5-8cfe-81292e7bb6de"
      },
      "source": [
        "def sum(value1,value2):\n",
        "  print(value1+value2)\n",
        "sum(100,200)  #300"
      ],
      "execution_count": 2,
      "outputs": [
        {
          "output_type": "stream",
          "text": [
            "300\n"
          ],
          "name": "stdout"
        }
      ]
    },
    {
      "cell_type": "code",
      "metadata": {
        "id": "Olk9jIVWiRZ6",
        "colab_type": "code",
        "colab": {
          "base_uri": "https://localhost:8080/",
          "height": 34
        },
        "outputId": "e0eaa4cd-c4da-4c2e-b996-f7124d848107"
      },
      "source": [
        "#when you are not sure how many agruments you can used agrgument concept\n",
        "\n",
        "def newSum(*args): #it is just pack the all the argument that is type of typle\n",
        "  sum=0\n",
        "  for i in args:\n",
        "    sum+=i\n",
        "  print(sum)\n",
        "newSum(10,20,30,40,50) "
      ],
      "execution_count": 3,
      "outputs": [
        {
          "output_type": "stream",
          "text": [
            "150\n"
          ],
          "name": "stdout"
        }
      ]
    },
    {
      "cell_type": "code",
      "metadata": {
        "id": "TIPeXgjXi7nC",
        "colab_type": "code",
        "colab": {
          "base_uri": "https://localhost:8080/",
          "height": 34
        },
        "outputId": "245c1cdb-2243-4459-e6b1-256f268c8bfb"
      },
      "source": [
        "#Another Concept is call keyword arguments\n",
        "\n",
        "\n",
        "def info(**kwargs):\n",
        "  type(kwargs)\n",
        "  print(kwargs) #{'Name': 'sanket', 'age': 17, 'place': 'MP'}\n",
        "\n",
        "info(Name=\"sanket\", age=17, place=\"MP\" )\n",
        "\n"
      ],
      "execution_count": 5,
      "outputs": [
        {
          "output_type": "stream",
          "text": [
            "{'Name': 'sanket', 'age': 17, 'place': 'MP'}\n"
          ],
          "name": "stdout"
        }
      ]
    },
    {
      "cell_type": "code",
      "metadata": {
        "id": "SAFq0_Zxjldt",
        "colab_type": "code",
        "colab": {}
      },
      "source": [
        ""
      ],
      "execution_count": null,
      "outputs": []
    }
  ]
}