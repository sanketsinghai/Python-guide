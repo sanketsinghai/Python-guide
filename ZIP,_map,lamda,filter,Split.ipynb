{
  "nbformat": 4,
  "nbformat_minor": 0,
  "metadata": {
    "colab": {
      "name": "ZIP, map,lamda,filter,Split.ipynb",
      "provenance": []
    },
    "kernelspec": {
      "name": "python3",
      "display_name": "Python 3"
    }
  },
  "cells": [
    {
      "cell_type": "markdown",
      "metadata": {
        "id": "HbEHi-thBk77",
        "colab_type": "text"
      },
      "source": [
        "**ZIP**"
      ]
    },
    {
      "cell_type": "code",
      "metadata": {
        "id": "MO6MWQAvBtM2",
        "colab_type": "code",
        "colab": {
          "base_uri": "https://localhost:8080/",
          "height": 51
        },
        "outputId": "8489b251-3e30-43ba-c64a-0ba4250cf9e7"
      },
      "source": [
        "li1=[1,2,3]\n",
        "li2=[4,5,6]\n",
        "li3=[8,9,10]\n",
        "li4=[]\n",
        "packlist=zip(li1,li2,li3)\n",
        "#zip will return tuple of each value \n",
        "print(packlist)\n",
        "\n",
        "for value1,value2,value3 in zip(li1,li2,li3):\n",
        "  sum=li4.append(value1+value2+value3)\n",
        "print(li4)\n"
      ],
      "execution_count": 10,
      "outputs": [
        {
          "output_type": "stream",
          "text": [
            "<zip object at 0x7f283c81dac8>\n",
            "[13, 16, 19]\n"
          ],
          "name": "stdout"
        }
      ]
    },
    {
      "cell_type": "code",
      "metadata": {
        "id": "At_QzZryCPZZ",
        "colab_type": "code",
        "colab": {
          "base_uri": "https://localhost:8080/",
          "height": 51
        },
        "outputId": "85bd4564-1c71-4171-8fd0-3177de20d1b7"
      },
      "source": [
        "mytuple=(\"Name\", \"age\")  # we can zip one tuple and one list also\n",
        "mylist=[\"sanket\", 24]\n",
        "pack=zip(mytuple,mylist)   #retun tuple of the values\n",
        "for i,j in pack:\n",
        "  print(i,j)   # Name-string sanket-string unpack the each value it will type of string "
      ],
      "execution_count": 20,
      "outputs": [
        {
          "output_type": "stream",
          "text": [
            "Name sanket\n",
            "age 24\n"
          ],
          "name": "stdout"
        }
      ]
    },
    {
      "cell_type": "code",
      "metadata": {
        "id": "1OW6ZFd-FLqd",
        "colab_type": "code",
        "colab": {
          "base_uri": "https://localhost:8080/",
          "height": 34
        },
        "outputId": "0e769123-36bb-4a31-ed5d-6c34918bcffe"
      },
      "source": [
        "mytuple=[\"Name\"]\n",
        "mylist=[\"sanket\", 24]\n",
        "pack=zip(mytuple,mylist)   #it will zip with pair rest will ignore\n",
        "for i in pack:\n",
        "  print(i)   # ('Name', 'sanket')without unpack directly can see it is tuple"
      ],
      "execution_count": 23,
      "outputs": [
        {
          "output_type": "stream",
          "text": [
            "('Name', 'sanket')\n"
          ],
          "name": "stdout"
        }
      ]
    },
    {
      "cell_type": "code",
      "metadata": {
        "id": "jOWFHfj4G5F2",
        "colab_type": "code",
        "colab": {
          "base_uri": "https://localhost:8080/",
          "height": 68
        },
        "outputId": "3a7c24ac-411e-4e99-9082-87f6512c9b3f"
      },
      "source": [
        "mytuple=(\"Name\", \"age\")\n",
        "mylist=[\"sanket\", 24]\n",
        "pack=dict(zip(mytuple,mylist))   #convet zip object into dictionary so conclusion if we can convert tuple to dict it will make key , value pair\n",
        "print(pack)   #{'Name': 'sanket', 'age': 24}\n",
        "for i in pack:\n",
        " print(pack[i]) # print the value correspondig key \n",
        "\n",
        "\n",
        "#output  \n",
        "#{'Name': 'sanket', 'age': 24}\n",
        "#sanket\n",
        "#24"
      ],
      "execution_count": 31,
      "outputs": [
        {
          "output_type": "stream",
          "text": [
            "{'Name': 'sanket', 'age': 24}\n",
            "sanket\n",
            "24\n"
          ],
          "name": "stdout"
        }
      ]
    },
    {
      "cell_type": "code",
      "metadata": {
        "id": "HEoN-9yHH41h",
        "colab_type": "code",
        "colab": {}
      },
      "source": [
        ""
      ],
      "execution_count": null,
      "outputs": []
    },
    {
      "cell_type": "markdown",
      "metadata": {
        "id": "3Zto_1ICRkCE",
        "colab_type": "text"
      },
      "source": [
        "**Split and Join**"
      ]
    },
    {
      "cell_type": "code",
      "metadata": {
        "id": "MjIpzG7hRpp2",
        "colab_type": "code",
        "colab": {
          "base_uri": "https://localhost:8080/",
          "height": 34
        },
        "outputId": "c81f0d2e-bfc6-402a-fab9-3c912aeed800"
      },
      "source": [
        "#it is will split the string and return the list of value\n",
        "st=\"abbsfs123adjash123sdfsdj123\"\n",
        "\n",
        "st.split(' ')    #['abbsfs', 'adjash', 'sdfsdj', '']\n",
        "\n",
        "print(st)\n",
        "\n"
      ],
      "execution_count": 35,
      "outputs": [
        {
          "output_type": "stream",
          "text": [
            "abbsfs123adjash123sdfsdj123\n"
          ],
          "name": "stdout"
        }
      ]
    },
    {
      "cell_type": "code",
      "metadata": {
        "id": "rbRniHcjR2Lb",
        "colab_type": "code",
        "colab": {
          "base_uri": "https://localhost:8080/",
          "height": 34
        },
        "outputId": "0d871047-89b8-4491-8086-b2df9587aa7d"
      },
      "source": [
        "#join()  it will join the items of list with provided string\n",
        "\n",
        "myList=[\"This\",\"is\",\"Sanket\",\"Singhai\"]\n",
        "print(\"#\".join(myList))   #This#is#Sanket#Singhai\n"
      ],
      "execution_count": 39,
      "outputs": [
        {
          "output_type": "stream",
          "text": [
            "This#is#Sanket#Singhai\n"
          ],
          "name": "stdout"
        }
      ]
    },
    {
      "cell_type": "code",
      "metadata": {
        "id": "xJ_r0e0KTSqH",
        "colab_type": "code",
        "colab": {}
      },
      "source": [
        "Lamda Funtion"
      ],
      "execution_count": null,
      "outputs": []
    },
    {
      "cell_type": "markdown",
      "metadata": {
        "id": "SHBRvaaGxR22",
        "colab_type": "text"
      },
      "source": [
        "**Lambda Funtion**"
      ]
    },
    {
      "cell_type": "code",
      "metadata": {
        "id": "hliMi_4mxVJs",
        "colab_type": "code",
        "colab": {
          "base_uri": "https://localhost:8080/",
          "height": 34
        },
        "outputId": "bb8ca00d-d41a-44c2-c36b-7dc2753c03ae"
      },
      "source": [
        "# it is anonymous funtions which will have only one expression with multiple agruments\n",
        "square=lambda number: number**2\n",
        "print(square(25))"
      ],
      "execution_count": 40,
      "outputs": [
        {
          "output_type": "stream",
          "text": [
            "625\n"
          ],
          "name": "stdout"
        }
      ]
    },
    {
      "cell_type": "markdown",
      "metadata": {
        "id": "rA29bn_hyNLU",
        "colab_type": "text"
      },
      "source": [
        "**MAP Funtion**"
      ]
    },
    {
      "cell_type": "code",
      "metadata": {
        "id": "7JGj7V84yRpf",
        "colab_type": "code",
        "colab": {
          "base_uri": "https://localhost:8080/",
          "height": 34
        },
        "outputId": "31837c66-5eb6-4378-cdc9-c8b26de86769"
      },
      "source": [
        "#2 arguments, funtion and iterable object\n",
        "\n",
        "def square(number):\n",
        "  return number**2\n",
        "number=[1,2,3,4]\n",
        "sq=list(map(square,number))\n",
        "print(sq)"
      ],
      "execution_count": 41,
      "outputs": [
        {
          "output_type": "stream",
          "text": [
            "[1, 4, 9, 16]\n"
          ],
          "name": "stdout"
        }
      ]
    },
    {
      "cell_type": "code",
      "metadata": {
        "id": "qcjg_nZvDs2c",
        "colab_type": "code",
        "colab": {
          "base_uri": "https://localhost:8080/",
          "height": 34
        },
        "outputId": "7de16507-887b-4902-f0e1-c16228a39802"
      },
      "source": [
        "# Combination of MAP and lambda funtions\n",
        "\n",
        "print(list(map(lambda x:x**2, number)))"
      ],
      "execution_count": 42,
      "outputs": [
        {
          "output_type": "stream",
          "text": [
            "[1, 4, 9, 16]\n"
          ],
          "name": "stdout"
        }
      ]
    },
    {
      "cell_type": "markdown",
      "metadata": {
        "id": "kR0U_sMHG0C4",
        "colab_type": "text"
      },
      "source": [
        "**Filter Funtion**"
      ]
    },
    {
      "cell_type": "code",
      "metadata": {
        "id": "updFZwnuEFKR",
        "colab_type": "code",
        "colab": {
          "base_uri": "https://localhost:8080/",
          "height": 51
        },
        "outputId": "e905da9d-0f55-4191-843c-b4676b1df3d6"
      },
      "source": [
        "#filter funtion will filter out the values as per return of the funtions\n",
        "#Take a example what is need to filter\n",
        "\n",
        "n=[1,2,3,4]\n",
        "def even(n):\n",
        "  if n%2==0:\n",
        "    return n\n",
        "map_output=list(map(even,n))\n",
        "print(map_output)  #[None, 2, None, 4]  map will return None value for false condition also to avoid this we need to use filter funtion\n",
        "filter_output=list(filter(even,n))\n",
        "print(filter_output)  #[2, 4]  so it is returuning only true value\n",
        "\n",
        "\n",
        "\n",
        "\n"
      ],
      "execution_count": 45,
      "outputs": [
        {
          "output_type": "stream",
          "text": [
            "[None, 2, None, 4]\n",
            "[2, 4]\n"
          ],
          "name": "stdout"
        }
      ]
    },
    {
      "cell_type": "code",
      "metadata": {
        "id": "LwUWXNw2F286",
        "colab_type": "code",
        "colab": {
          "base_uri": "https://localhost:8080/",
          "height": 34
        },
        "outputId": "70e78051-eca8-4ab8-cb3a-5b8dfd9a52a7"
      },
      "source": [
        "#Prime number\n",
        "\n",
        "def isPrime(num):\n",
        "  for i in range(2,int((num**0.5))+1):\n",
        "    if num%i==0:\n",
        "      return False\n",
        "  else:\n",
        "    return True\n",
        "isPrime(13)\n",
        "\n",
        "#List of prime number from 2, 100\n",
        "\n",
        "primeList=list(filter(isPrime,range(2,101)))\n",
        "print(primeList)"
      ],
      "execution_count": 49,
      "outputs": [
        {
          "output_type": "stream",
          "text": [
            "[2, 3, 5, 7, 11, 13, 17, 19, 23, 29, 31, 37, 41, 43, 47, 53, 59, 61, 67, 71, 73, 79, 83, 89, 97]\n"
          ],
          "name": "stdout"
        }
      ]
    },
    {
      "cell_type": "code",
      "metadata": {
        "id": "G5fsz45pNbV7",
        "colab_type": "code",
        "colab": {}
      },
      "source": [
        ""
      ],
      "execution_count": null,
      "outputs": []
    },
    {
      "cell_type": "markdown",
      "metadata": {
        "id": "cYRVVO01PmhK",
        "colab_type": "text"
      },
      "source": [
        "**Reduce**"
      ]
    },
    {
      "cell_type": "code",
      "metadata": {
        "id": "k1VGrXZWPqOa",
        "colab_type": "code",
        "colab": {
          "base_uri": "https://localhost:8080/",
          "height": 34
        },
        "outputId": "a6748834-6ffe-4107-ec1d-c0aaa4716125"
      },
      "source": [
        "import functools\n",
        "def mul(a,b):\n",
        "  return a*b\n",
        "\n",
        "fact=functools.reduce(mul, range(1,6))\n",
        "\n",
        "print(fact)"
      ],
      "execution_count": 53,
      "outputs": [
        {
          "output_type": "stream",
          "text": [
            "120\n"
          ],
          "name": "stdout"
        }
      ]
    },
    {
      "cell_type": "code",
      "metadata": {
        "id": "Sj3PL0KWSB0p",
        "colab_type": "code",
        "colab": {}
      },
      "source": [
        ""
      ],
      "execution_count": null,
      "outputs": []
    }
  ]
}