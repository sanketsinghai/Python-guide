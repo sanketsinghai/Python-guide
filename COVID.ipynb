{
 "cells": [
  {
   "cell_type": "code",
   "execution_count": 21,
   "metadata": {},
   "outputs": [
    {
     "name": "stdout",
     "output_type": "stream",
     "text": [
      "Cases in United States\n",
      "Total Cases : 2,681,811\n",
      "Recovered Cases : 1,117,177\n",
      "Total Deaths : 128,783\n",
      "----------------------------\n",
      "Cases in India\n",
      "Total Cases : 567,536\n",
      "Recovered Cases : 335,271\n",
      "Total Deaths : 16,904\n"
     ]
    }
   ],
   "source": [
    "# importing libraries \n",
    "from bs4 import BeautifulSoup as BS \n",
    "import requests \n",
    "\n",
    "\n",
    "# method to get the info \n",
    "def get_info(country_name): \n",
    "\t\n",
    "\t# creating url using country name \n",
    "\turl = \"https://www.worldometers.info/coronavirus/country/\" + country_name + \"/\"\n",
    "\t\n",
    "\t# getting the request from url \n",
    "\tdata = requests.get(url) \n",
    "\n",
    "\t# converting the text \n",
    "\tsoup = BS(data.text, 'html.parser') \n",
    "\t\n",
    "\t# finding meta info for cases \n",
    "\tcases = soup.find_all(\"div\", class_ = \"maincounter-number\") \n",
    "\t\n",
    "\t# getting total cases number \n",
    "\ttotal = cases[0].text \n",
    "\t\n",
    "\t# filtering it \n",
    "\ttotal = total[1 : len(total) - 2] \n",
    "\t\n",
    "\t# getting recovered cases number \n",
    "\trecovered = cases[2].text \n",
    "\t\n",
    "\t# filtering it \n",
    "\trecovered = recovered[1 : len(recovered) - 1] \n",
    "\t\n",
    "\t\n",
    "\t# getting death cases number \n",
    "\tdeaths = cases[1].text \n",
    "\t\n",
    "\t# filtering it \n",
    "\tdeaths = deaths[1 : len(deaths) - 1] \n",
    "\t\n",
    "\t# saving details in dictionary \n",
    "\tans ={'Total Cases' : total, 'Recovered Cases' : recovered, \n",
    "\t\t\t\t\t\t\t\t'Total Deaths' : deaths} \n",
    "\t\n",
    "\t# returnng the dictionary \n",
    "\treturn ans \n",
    "\n",
    "# setting country name \n",
    "country_name = \"us\"\n",
    "\n",
    "# calling the get_info method \n",
    "us = get_info(country_name) \n",
    "\n",
    "# printing the results for us \n",
    "print(\"Cases in United States\") \n",
    "for i, j in us.items(): \n",
    "\tprint(i + \" : \" + j) \n",
    "\t\n",
    "print(\"----------------------------\") \n",
    "# setting country name to india \n",
    "country_name = \"india\"\n",
    "\n",
    "# calling the get_info method \n",
    "india = get_info(country_name) \n",
    "\n",
    "# printing the results for us \n",
    "print(\"Cases in India\") \n",
    "for i, j in india.items(): \n",
    "\tprint(i + \" : \" + j) \n"
   ]
  },
  {
   "cell_type": "code",
   "execution_count": 6,
   "metadata": {},
   "outputs": [
    {
     "name": "stdout",
     "output_type": "stream",
     "text": [
      "Collecting Covid19India\n",
      "  Downloading https://files.pythonhosted.org/packages/41/ad/9ff896110afa99b8af421d9eb2ae87749f0d599746254e104fb932e1c9be/Covid19India-0.0.5-py3-none-any.whl\n",
      "Requirement already satisfied: beautifulsoup4 in d:\\newfolder\\lib\\site-packages (from Covid19India) (4.8.0)\n",
      "Requirement already satisfied: requests in d:\\newfolder\\lib\\site-packages (from Covid19India) (2.22.0)\n",
      "Requirement already satisfied: soupsieve>=1.2 in d:\\newfolder\\lib\\site-packages (from beautifulsoup4->Covid19India) (1.9.3)\n",
      "Requirement already satisfied: certifi>=2017.4.17 in d:\\newfolder\\lib\\site-packages (from requests->Covid19India) (2019.9.11)\n",
      "Requirement already satisfied: chardet<3.1.0,>=3.0.2 in d:\\newfolder\\lib\\site-packages (from requests->Covid19India) (3.0.4)\n",
      "Requirement already satisfied: urllib3!=1.25.0,!=1.25.1,<1.26,>=1.21.1 in d:\\newfolder\\lib\\site-packages (from requests->Covid19India) (1.24.2)\n",
      "Requirement already satisfied: idna<2.9,>=2.5 in d:\\newfolder\\lib\\site-packages (from requests->Covid19India) (2.8)\n",
      "Installing collected packages: Covid19India\n",
      "Successfully installed Covid19India-0.0.5\n",
      "Note: you may need to restart the kernel to use updated packages.\n"
     ]
    }
   ],
   "source": [
    "pip install Covid19India"
   ]
  },
  {
   "cell_type": "code",
   "execution_count": 7,
   "metadata": {},
   "outputs": [
    {
     "name": "stdout",
     "output_type": "stream",
     "text": [
      "{'states': {'Andaman and Nicobar Islands': {'active': 44, 'recovered': 46, 'confirmed': 90, 'deaths': 0}, 'Andhra Pradesh': {'active': 7479, 'recovered': 6232, 'confirmed': 13891, 'deaths': 180}, 'Arunachal Pradesh': {'active': 125, 'recovered': 61, 'confirmed': 187, 'deaths': 1}, 'Assam': {'active': 2408, 'recovered': 5333, 'confirmed': 7752, 'deaths': 11}, 'Bihar': {'active': 2188, 'recovered': 7390, 'confirmed': 9640, 'deaths': 62}, 'Chandigarh': {'active': 80, 'recovered': 349, 'confirmed': 435, 'deaths': 6}, 'Chhattisgarh': {'active': 575, 'recovered': 2173, 'confirmed': 2761, 'deaths': 13}, 'Dadra and Nagar Haveli and Daman and Diu': {'active': 126, 'recovered': 77, 'confirmed': 203, 'deaths': 0}, 'Delhi': {'active': 26246, 'recovered': 56235, 'confirmed': 85161, 'deaths': 2680}, 'Goa': {'active': 717, 'recovered': 478, 'confirmed': 1198, 'deaths': 3}, 'Gujarat': {'active': 6871, 'recovered': 23240, 'confirmed': 31938, 'deaths': 1827}, 'Haryana': {'active': 4476, 'recovered': 9502, 'confirmed': 14210, 'deaths': 232}, 'Himachal Pradesh': {'active': 377, 'recovered': 556, 'confirmed': 942, 'deaths': 9}, 'Jammu and Kashmir': {'active': 2557, 'recovered': 4585, 'confirmed': 7237, 'deaths': 95}, 'Jharkhand': {'active': 566, 'recovered': 1845, 'confirmed': 2426, 'deaths': 15}, 'Karnataka': {'active': 6386, 'recovered': 7683, 'confirmed': 14295, 'deaths': 226}, 'Kerala': {'active': 2015, 'recovered': 2152, 'confirmed': 4189, 'deaths': 22}, 'Ladakh': {'active': 347, 'recovered': 616, 'confirmed': 964, 'deaths': 1}, 'Madhya Pradesh': {'active': 2607, 'recovered': 10199, 'confirmed': 13370, 'deaths': 564}, 'Maharashtra': {'active': 73313, 'recovered': 88960, 'confirmed': 169883, 'deaths': 7610}, 'Manipur': {'active': 733, 'recovered': 494, 'confirmed': 1227, 'deaths': 0}, 'Meghalaya': {'active': 4, 'recovered': 42, 'confirmed': 47, 'deaths': 1}, 'Mizoram': {'active': 93, 'recovered': 55, 'confirmed': 148, 'deaths': 0}, 'Nagaland': {'active': 266, 'recovered': 168, 'confirmed': 434, 'deaths': 0}, 'Odisha': {'active': 1890, 'recovered': 4946, 'confirmed': 6859, 'deaths': 23}, 'Puducherry': {'active': 388, 'recovered': 221, 'confirmed': 619, 'deaths': 10}, 'Punjab': {'active': 1516, 'recovered': 3764, 'confirmed': 5418, 'deaths': 138}, 'Rajasthan': {'active': 3637, 'recovered': 13618, 'confirmed': 17660, 'deaths': 405}, 'Sikkim': {'active': 38, 'recovered': 50, 'confirmed': 88, 'deaths': 0}, 'Tamil Nadu': {'active': 37334, 'recovered': 47749, 'confirmed': 86224, 'deaths': 1141}, 'Telangana': {'active': 9559, 'recovered': 5582, 'confirmed': 15394, 'deaths': 253}, 'Tripura': {'active': 294, 'recovered': 1085, 'confirmed': 1380, 'deaths': 1}, 'Uttarakhand': {'active': 681, 'recovered': 2111, 'confirmed': 2831, 'deaths': 39}, 'Uttar Pradesh': {'active': 6650, 'recovered': 15506, 'confirmed': 22828, 'deaths': 672}, 'West Bengal': {'active': 5535, 'recovered': 11719, 'confirmed': 17907, 'deaths': 653}}, 'total': {'active': 215125, 'recovered': 334822, 'deaths': 16893, 'confirmed': 566840}, 'time': '30\\tJune 2020, 08:00 IST (GMT+5:30)'}\n"
     ]
    }
   ],
   "source": [
    "from Covid19India import CovidIndia                                                                                                                                                                 \n",
    "obj = CovidIndia()                                                                                                                                                                                  \n",
    "stats = obj.getstats() \n",
    "print(stats)"
   ]
  },
  {
   "cell_type": "code",
   "execution_count": 18,
   "metadata": {},
   "outputs": [
    {
     "name": "stdout",
     "output_type": "stream",
     "text": [
      "{'Andaman and Nicobar Islands': {'active': 44, 'recovered': 46, 'confirmed': 90, 'deaths': 0}, 'Andhra Pradesh': {'active': 7479, 'recovered': 6232, 'confirmed': 13891, 'deaths': 180}, 'Arunachal Pradesh': {'active': 125, 'recovered': 61, 'confirmed': 187, 'deaths': 1}, 'Assam': {'active': 2408, 'recovered': 5333, 'confirmed': 7752, 'deaths': 11}, 'Bihar': {'active': 2188, 'recovered': 7390, 'confirmed': 9640, 'deaths': 62}, 'Chandigarh': {'active': 80, 'recovered': 349, 'confirmed': 435, 'deaths': 6}, 'Chhattisgarh': {'active': 575, 'recovered': 2173, 'confirmed': 2761, 'deaths': 13}, 'Dadra and Nagar Haveli and Daman and Diu': {'active': 126, 'recovered': 77, 'confirmed': 203, 'deaths': 0}, 'Delhi': {'active': 26246, 'recovered': 56235, 'confirmed': 85161, 'deaths': 2680}, 'Goa': {'active': 717, 'recovered': 478, 'confirmed': 1198, 'deaths': 3}, 'Gujarat': {'active': 6871, 'recovered': 23240, 'confirmed': 31938, 'deaths': 1827}, 'Haryana': {'active': 4476, 'recovered': 9502, 'confirmed': 14210, 'deaths': 232}, 'Himachal Pradesh': {'active': 377, 'recovered': 556, 'confirmed': 942, 'deaths': 9}, 'Jammu and Kashmir': {'active': 2557, 'recovered': 4585, 'confirmed': 7237, 'deaths': 95}, 'Jharkhand': {'active': 566, 'recovered': 1845, 'confirmed': 2426, 'deaths': 15}, 'Karnataka': {'active': 6386, 'recovered': 7683, 'confirmed': 14295, 'deaths': 226}, 'Kerala': {'active': 2015, 'recovered': 2152, 'confirmed': 4189, 'deaths': 22}, 'Ladakh': {'active': 347, 'recovered': 616, 'confirmed': 964, 'deaths': 1}, 'Madhya Pradesh': {'active': 2607, 'recovered': 10199, 'confirmed': 13370, 'deaths': 564}, 'Maharashtra': {'active': 73313, 'recovered': 88960, 'confirmed': 169883, 'deaths': 7610}, 'Manipur': {'active': 733, 'recovered': 494, 'confirmed': 1227, 'deaths': 0}, 'Meghalaya': {'active': 4, 'recovered': 42, 'confirmed': 47, 'deaths': 1}, 'Mizoram': {'active': 93, 'recovered': 55, 'confirmed': 148, 'deaths': 0}, 'Nagaland': {'active': 266, 'recovered': 168, 'confirmed': 434, 'deaths': 0}, 'Odisha': {'active': 1890, 'recovered': 4946, 'confirmed': 6859, 'deaths': 23}, 'Puducherry': {'active': 388, 'recovered': 221, 'confirmed': 619, 'deaths': 10}, 'Punjab': {'active': 1516, 'recovered': 3764, 'confirmed': 5418, 'deaths': 138}, 'Rajasthan': {'active': 3637, 'recovered': 13618, 'confirmed': 17660, 'deaths': 405}, 'Sikkim': {'active': 38, 'recovered': 50, 'confirmed': 88, 'deaths': 0}, 'Tamil Nadu': {'active': 37334, 'recovered': 47749, 'confirmed': 86224, 'deaths': 1141}, 'Telangana': {'active': 9559, 'recovered': 5582, 'confirmed': 15394, 'deaths': 253}, 'Tripura': {'active': 294, 'recovered': 1085, 'confirmed': 1380, 'deaths': 1}, 'Uttarakhand': {'active': 681, 'recovered': 2111, 'confirmed': 2831, 'deaths': 39}, 'Uttar Pradesh': {'active': 6650, 'recovered': 15506, 'confirmed': 22828, 'deaths': 672}, 'West Bengal': {'active': 5535, 'recovered': 11719, 'confirmed': 17907, 'deaths': 653}}\n"
     ]
    }
   ],
   "source": [
    "print(stats['states'])"
   ]
  },
  {
   "cell_type": "code",
   "execution_count": 23,
   "metadata": {},
   "outputs": [
    {
     "name": "stdout",
     "output_type": "stream",
     "text": [
      "30\tJune 2020, 08:00 IST (GMT+5:30)\n"
     ]
    }
   ],
   "source": [
    "print(stats['time'])"
   ]
  },
  {
   "cell_type": "code",
   "execution_count": null,
   "metadata": {},
   "outputs": [],
   "source": []
  }
 ],
 "metadata": {
  "kernelspec": {
   "display_name": "Python 3",
   "language": "python",
   "name": "python3"
  },
  "language_info": {
   "codemirror_mode": {
    "name": "ipython",
    "version": 3
   },
   "file_extension": ".py",
   "mimetype": "text/x-python",
   "name": "python",
   "nbconvert_exporter": "python",
   "pygments_lexer": "ipython3",
   "version": "3.7.4"
  }
 },
 "nbformat": 4,
 "nbformat_minor": 2
}
