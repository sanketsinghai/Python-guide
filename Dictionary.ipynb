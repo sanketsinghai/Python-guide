{
  "nbformat": 4,
  "nbformat_minor": 0,
  "metadata": {
    "colab": {
      "name": "Dictionary.ipynb",
      "provenance": []
    },
    "kernelspec": {
      "name": "python3",
      "display_name": "Python 3"
    }
  },
  "cells": [
    {
      "cell_type": "markdown",
      "metadata": {
        "id": "TePGzgzzJe5v",
        "colab_type": "text"
      },
      "source": [
        "***Dictionary***"
      ]
    },
    {
      "cell_type": "code",
      "metadata": {
        "id": "9W0a84unJo39",
        "colab_type": "code",
        "colab": {}
      },
      "source": [
        "#Syntax\n",
        "# { \"key1\":\"value1\",\"key2\":\"value2\"......}\n",
        "myDict={}  #empty dictionary\n",
        "# it is un orodered data structure"
      ],
      "execution_count": 1,
      "outputs": []
    },
    {
      "cell_type": "code",
      "metadata": {
        "id": "fEl9JNFOKHjp",
        "colab_type": "code",
        "colab": {}
      },
      "source": [
        "myList=[] # empty list\n",
        "myTuple=() #empty tuple\n",
        "myDict={}  #empty dict\n",
        "myset=set() #empty set\n",
        "\n",
        "\n"
      ],
      "execution_count": 2,
      "outputs": []
    },
    {
      "cell_type": "code",
      "metadata": {
        "id": "aNFuyzucLCJ1",
        "colab_type": "code",
        "colab": {
          "base_uri": "https://localhost:8080/",
          "height": 34
        },
        "outputId": "577840fa-26c2-4ad3-e577-b3e63fc9fa7c"
      },
      "source": [
        "myDict={\"Name\":\"sanket\", \"age\":24, \"company\":\"Terralogic Inc.\"}\n",
        "print(myDict[\"Name\"])   #sanket  -indexing only possible with key , and key should be unique in the dictionary , value can be repeat"
      ],
      "execution_count": 4,
      "outputs": [
        {
          "output_type": "stream",
          "text": [
            "sanket\n"
          ],
          "name": "stdout"
        }
      ]
    },
    {
      "cell_type": "code",
      "metadata": {
        "id": "NmkQl2muLWDJ",
        "colab_type": "code",
        "colab": {
          "base_uri": "https://localhost:8080/",
          "height": 34
        },
        "outputId": "333727b3-9eab-4751-fb12-5244f73b125c"
      },
      "source": [
        "myDict[\"Name\"]=\"sanket singhai\" # I can reinitialize the value with help of key\n",
        "print(myDict[\"Name\"])  #sanket singhai"
      ],
      "execution_count": 7,
      "outputs": [
        {
          "output_type": "stream",
          "text": [
            "sanket singhai\n"
          ],
          "name": "stdout"
        }
      ]
    },
    {
      "cell_type": "code",
      "metadata": {
        "id": "YP7bc9USL_kw",
        "colab_type": "code",
        "colab": {
          "base_uri": "https://localhost:8080/",
          "height": 34
        },
        "outputId": "9c593d4d-2d1b-48da-ee36-9a13aa3a782c"
      },
      "source": [
        "myDict[\"Place\"]=\"Madhya Pradesh\" ## we can more key value pair \n",
        "print(myDict)  #{'Name': 'sanket singhai', 'age': 24, 'company': 'Terralogic Inc.', 'Place': 'Madhya Pradesh'}"
      ],
      "execution_count": 9,
      "outputs": [
        {
          "output_type": "stream",
          "text": [
            "{'Name': 'sanket singhai', 'age': 24, 'company': 'Terralogic Inc.', 'Place': 'Madhya Pradesh'}\n"
          ],
          "name": "stdout"
        }
      ]
    },
    {
      "cell_type": "code",
      "metadata": {
        "id": "hkiQP9BtMlVJ",
        "colab_type": "code",
        "colab": {
          "base_uri": "https://localhost:8080/",
          "height": 187
        },
        "outputId": "1574ed0a-641b-42d5-b9fb-63b417280583"
      },
      "source": [
        "#Dictionary methods\n",
        "#get() method used to fetch value it will take key as a arguments and returns the value\n",
        "print(myDict.get(\"Name\"))   #sanket singhai\n",
        "\n",
        "#pop() it is used to remove any key-value  it took key as a agrugument and return the value\n",
        "#myDict.pop(\"Place\")  #{'Name': 'sanket singhai', 'age': 24, 'company': 'Terralogic Inc.'}\n",
        "print(myDict)\n",
        "\n",
        "\n",
        "#keys()   it will return list of all the keys\n",
        "#values() it will return list of all the values\n",
        "\n",
        "print(myDict.keys())   #dict_keys(['Name', 'age', 'company']) \n",
        "print(myDict.values())   #dict_values(['sanket singhai', 24, 'Terralogic Inc.'])\n",
        "\n",
        "\n",
        "\n",
        "#items() it will return list of tuple\n",
        "\n",
        "print(myDict.items())   #dict_items([('Name', 'sanket singhai'), ('age', 24), ('company', 'Terralogic Inc.')])\n",
        "\n",
        "\n",
        "#Accessing dictionary with the help of the for loops\n",
        "for i, j in myDict.items():\n",
        "  print(i, j)    \n",
        "\n",
        "#output\n",
        "#Name sanket singhai\n",
        "#age 24\n",
        "#company Terralogic Inc.\n",
        "\n",
        "\n",
        "\n",
        "#update()   it is used to extend existing dictionary to another dictionary \n",
        "\n",
        "newDict={\"Address\":\"BTM 1st stage\"}\n",
        "myDict.update(newDict)\n",
        "print(myDict)  #{'Name': 'sanket singhai', 'age': 24, 'company': 'Terralogic Inc.', 'Address': 'BTM 1st stage'}\n",
        "\n",
        "\n",
        "\n"
      ],
      "execution_count": 23,
      "outputs": [
        {
          "output_type": "stream",
          "text": [
            "sanket singhai\n",
            "{'Name': 'sanket singhai', 'age': 24, 'company': 'Terralogic Inc.', 'Address': 'BTM 1st stage'}\n",
            "dict_keys(['Name', 'age', 'company', 'Address'])\n",
            "dict_values(['sanket singhai', 24, 'Terralogic Inc.', 'BTM 1st stage'])\n",
            "dict_items([('Name', 'sanket singhai'), ('age', 24), ('company', 'Terralogic Inc.'), ('Address', 'BTM 1st stage')])\n",
            "Name sanket singhai\n",
            "age 24\n",
            "company Terralogic Inc.\n",
            "Address BTM 1st stage\n",
            "{'Name': 'sanket singhai', 'age': 24, 'company': 'Terralogic Inc.', 'Address': 'BTM 1st stage'}\n"
          ],
          "name": "stdout"
        }
      ]
    },
    {
      "cell_type": "code",
      "metadata": {
        "id": "YU6m-PsgNgk8",
        "colab_type": "code",
        "colab": {}
      },
      "source": [
        ""
      ],
      "execution_count": null,
      "outputs": []
    }
  ]
}