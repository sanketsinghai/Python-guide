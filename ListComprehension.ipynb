{
  "nbformat": 4,
  "nbformat_minor": 0,
  "metadata": {
    "colab": {
      "name": "ListComprehension.ipynb",
      "provenance": []
    },
    "kernelspec": {
      "name": "python3",
      "display_name": "Python 3"
    }
  },
  "cells": [
    {
      "cell_type": "markdown",
      "metadata": {
        "id": "V0r3q84VVIKG",
        "colab_type": "text"
      },
      "source": [
        "Comprehension: It will reduce reduced our line of the codes\n",
        "\n",
        "1.   List Comprehension\n",
        "2.   Set Comprehension\n",
        "3.   Dictionary Comprehension\n",
        "\n"
      ]
    },
    {
      "cell_type": "code",
      "metadata": {
        "id": "MXD4ORuiVgEy",
        "colab_type": "code",
        "colab": {
          "base_uri": "https://localhost:8080/",
          "height": 68
        },
        "outputId": "987362e8-94d5-429d-fd45-82118b0fd972"
      },
      "source": [
        "# Square of number\n",
        "\n",
        "myList=[1,2,3]\n",
        "\n",
        "for i in myList:\n",
        "  print(i**2)"
      ],
      "execution_count": 1,
      "outputs": [
        {
          "output_type": "stream",
          "text": [
            "1\n",
            "4\n",
            "9\n"
          ],
          "name": "stdout"
        }
      ]
    },
    {
      "cell_type": "code",
      "metadata": {
        "id": "XiNcv3aFV4uU",
        "colab_type": "code",
        "colab": {
          "base_uri": "https://localhost:8080/",
          "height": 34
        },
        "outputId": "34a74492-5259-454f-9e27-c07c2c643c1e"
      },
      "source": [
        "#Same thing we can do with the help of list comprehensions\n",
        "#Syntax [ expression for varible in iterable_object  conditions ]\n",
        "\n",
        "print([ i**2 for i in myList])"
      ],
      "execution_count": 3,
      "outputs": [
        {
          "output_type": "stream",
          "text": [
            "[1, 4, 9]\n"
          ],
          "name": "stdout"
        }
      ]
    },
    {
      "cell_type": "code",
      "metadata": {
        "id": "6LV3kBcIWQL6",
        "colab_type": "code",
        "colab": {
          "base_uri": "https://localhost:8080/",
          "height": 54
        },
        "outputId": "21716dd6-1e5a-49b8-d934-39af6bc04c9c"
      },
      "source": [
        "#Another example with conditions\n",
        "\n",
        "#Write a program to print even number till 100\n",
        "\n",
        "print([i for i in range(101) if i%2==0])"
      ],
      "execution_count": 5,
      "outputs": [
        {
          "output_type": "stream",
          "text": [
            "[0, 2, 4, 6, 8, 10, 12, 14, 16, 18, 20, 22, 24, 26, 28, 30, 32, 34, 36, 38, 40, 42, 44, 46, 48, 50, 52, 54, 56, 58, 60, 62, 64, 66, 68, 70, 72, 74, 76, 78, 80, 82, 84, 86, 88, 90, 92, 94, 96, 98, 100]\n"
          ],
          "name": "stdout"
        }
      ]
    },
    {
      "cell_type": "code",
      "metadata": {
        "id": "Ff7fP6QEXfVD",
        "colab_type": "code",
        "colab": {
          "base_uri": "https://localhost:8080/",
          "height": 51
        },
        "outputId": "6d6da3d6-7577-46f3-9c84-201f698a04c6"
      },
      "source": [
        "# Now we see nested list comprehensions\n",
        "\n",
        "#first we will normal list comprehensions\n",
        "# square of square for first 10 numbers\n",
        "\n",
        "sq=[i**2 for i in range(1,11)]\n",
        "sq_of_sq=[ i**2 for i in sq]\n",
        "print(sq_of_sq)   #[1, 16, 81, 256, 625, 1296, 2401, 4096, 6561, 10000]\n",
        "\n",
        "\n",
        "#Same things we can do with help of nested list comprehensions\n",
        "\n",
        "sq_of_sq=[i**2 for i in  [ i**2 for i in range(1,11)]]\n",
        "print(sq_of_sq)   #[1, 16, 81, 256, 625, 1296, 2401, 4096, 6561, 10000]"
      ],
      "execution_count": 9,
      "outputs": [
        {
          "output_type": "stream",
          "text": [
            "[1, 16, 81, 256, 625, 1296, 2401, 4096, 6561, 10000]\n",
            "[1, 16, 81, 256, 625, 1296, 2401, 4096, 6561, 10000]\n"
          ],
          "name": "stdout"
        }
      ]
    },
    {
      "cell_type": "code",
      "metadata": {
        "id": "1l1TM-sGZA4k",
        "colab_type": "code",
        "colab": {}
      },
      "source": [
        "#Set comprehension it same just replace [] bracket to {} "
      ],
      "execution_count": 10,
      "outputs": []
    },
    {
      "cell_type": "markdown",
      "metadata": {
        "id": "5FfL9162bagh",
        "colab_type": "text"
      },
      "source": [
        "Dictionary **Comprehension**"
      ]
    },
    {
      "cell_type": "code",
      "metadata": {
        "id": "gwfR_I99bfrT",
        "colab_type": "code",
        "colab": {
          "base_uri": "https://localhost:8080/",
          "height": 34
        },
        "outputId": "b1e6ce80-3e47-4620-d4e2-ba2a4f932714"
      },
      "source": [
        "sub=[\"Physics\",\"Chemistry\",\"Math\"]\n",
        "marks=[180,170,190]\n",
        "\n",
        "percentage={  key : value/2 for key, value in zip(sub,marks)}\n",
        "print(percentage)"
      ],
      "execution_count": 13,
      "outputs": [
        {
          "output_type": "stream",
          "text": [
            "{'Physics': 90.0, 'Chemistry': 85.0, 'Math': 95.0}\n"
          ],
          "name": "stdout"
        }
      ]
    },
    {
      "cell_type": "code",
      "metadata": {
        "id": "wYPkxlXlfwUf",
        "colab_type": "code",
        "colab": {}
      },
      "source": [
        ""
      ],
      "execution_count": 18,
      "outputs": []
    },
    {
      "cell_type": "code",
      "metadata": {
        "id": "Uibnhk4ZgWuh",
        "colab_type": "code",
        "colab": {}
      },
      "source": [
        ""
      ],
      "execution_count": null,
      "outputs": []
    }
  ]
}